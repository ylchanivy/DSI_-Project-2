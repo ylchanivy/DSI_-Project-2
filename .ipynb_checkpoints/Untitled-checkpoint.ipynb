{
 "cells": [
  {
   "cell_type": "code",
   "execution_count": null,
   "metadata": {},
   "outputs": [],
   "source": [
    "#fix, ax = plt.subplots(figsize=(8,5))\n",
    "#ax= sns.boxplot(y='Lot Frontage',data=train,orient='h')\n",
    "#xlabels = ['{}'.format(x) + 'K' for x in ax.get_xticks()/1000]\n",
    "#ax.set_xticklabels(xlabels)\n",
    "#ax.set_title('Sale Price for Different House Style');"
   ]
  },
  {
   "cell_type": "code",
   "execution_count": null,
   "metadata": {},
   "outputs": [],
   "source": [
    "#nba[\"College\"].fillna(\"No College\", inplace = True) \n",
    "#df.apply(lambda x: x.fillna(x.mean()))\n",
    "#train[['Fireplace Qu','Pool QC','Fence','Misc Feature']].apply(fillna(\"NA\", inplace = True))"
   ]
  },
  {
   "cell_type": "markdown",
   "metadata": {},
   "source": [
    "Check if there's any duplication row for 'ID'"
   ]
  },
  {
   "cell_type": "code",
   "execution_count": null,
   "metadata": {},
   "outputs": [],
   "source": [
    "#train[train.duplicated(subset='Id', keep='first')]"
   ]
  },
  {
   "cell_type": "markdown",
   "metadata": {},
   "source": [
    "List of Columns Index and Column Name"
   ]
  },
  {
   "cell_type": "code",
   "execution_count": null,
   "metadata": {},
   "outputs": [],
   "source": [
    "#columns_list=train.columns.to_list()\n",
    "#for c in enumerate (columns_list):\n",
    "#    print(c)"
   ]
  },
  {
   "cell_type": "markdown",
   "metadata": {},
   "source": [
    "To view unique value,and unique value count for each columns"
   ]
  },
  {
   "cell_type": "code",
   "execution_count": null,
   "metadata": {},
   "outputs": [],
   "source": [
    "#for c in train.columns:\n",
    "#    print (\"---- %s ---\" % c)\n",
    "#    print(train[c].unique())"
   ]
  },
  {
   "cell_type": "code",
   "execution_count": null,
   "metadata": {},
   "outputs": [],
   "source": [
    "# df_numeric = train.select_dtypes(exclude=['object'])\n",
    "# df_obj = train.select_dtypes(include=['object']).copy()"
   ]
  }
 ],
 "metadata": {
  "kernelspec": {
   "display_name": "Python 3",
   "language": "python",
   "name": "python3"
  },
  "language_info": {
   "codemirror_mode": {
    "name": "ipython",
    "version": 3
   },
   "file_extension": ".py",
   "mimetype": "text/x-python",
   "name": "python",
   "nbconvert_exporter": "python",
   "pygments_lexer": "ipython3",
   "version": "3.7.3"
  }
 },
 "nbformat": 4,
 "nbformat_minor": 2
}
